{
 "cells": [
  {
   "cell_type": "markdown",
   "metadata": {},
   "source": [
    "   # Noise prediction using Linear Regression"
   ]
  },
  {
   "cell_type": "markdown",
   "metadata": {},
   "source": [
    "Import the required libraries. Pandas will be used for reading data file and various other operations on the dataframe. Numpy will be used for mathematical operations on the data. sklearn.metrics amath and random libraries will be used for various other operations.Matplotlib will be used for plotting the data."
   ]
  },
  {
   "cell_type": "code",
   "execution_count": 44,
   "metadata": {},
   "outputs": [],
   "source": [
    "import numpy as np\n",
    "import matplotlib.pyplot as plt\n",
    "import pandas as pd\n",
    "import random\n",
    "from sklearn.metrics import r2_score\n",
    "from sklearn.metrics import mean_squared_error\n",
    "from sklearn.metrics import mean_absolute_error\n",
    "#from sklearn.model_selection import train_test_split"
   ]
  },
  {
   "cell_type": "markdown",
   "metadata": {},
   "source": [
    "Import the data"
   ]
  },
  {
   "cell_type": "code",
   "execution_count": 45,
   "metadata": {
    "scrolled": true
   },
   "outputs": [
    {
     "data": {
      "text/html": [
       "<div>\n",
       "<style scoped>\n",
       "    .dataframe tbody tr th:only-of-type {\n",
       "        vertical-align: middle;\n",
       "    }\n",
       "\n",
       "    .dataframe tbody tr th {\n",
       "        vertical-align: top;\n",
       "    }\n",
       "\n",
       "    .dataframe thead th {\n",
       "        text-align: right;\n",
       "    }\n",
       "</style>\n",
       "<table border=\"1\" class=\"dataframe\">\n",
       "  <thead>\n",
       "    <tr style=\"text-align: right;\">\n",
       "      <th></th>\n",
       "      <th>0</th>\n",
       "      <th>1</th>\n",
       "      <th>2</th>\n",
       "      <th>3</th>\n",
       "      <th>4</th>\n",
       "      <th>5</th>\n",
       "    </tr>\n",
       "  </thead>\n",
       "  <tbody>\n",
       "    <tr>\n",
       "      <th>0</th>\n",
       "      <td>8000.0</td>\n",
       "      <td>4.0</td>\n",
       "      <td>0.2286</td>\n",
       "      <td>39.6</td>\n",
       "      <td>0.004738</td>\n",
       "      <td>113.129</td>\n",
       "    </tr>\n",
       "    <tr>\n",
       "      <th>1</th>\n",
       "      <td>6300.0</td>\n",
       "      <td>0.0</td>\n",
       "      <td>0.0508</td>\n",
       "      <td>55.5</td>\n",
       "      <td>0.000762</td>\n",
       "      <td>132.796</td>\n",
       "    </tr>\n",
       "    <tr>\n",
       "      <th>2</th>\n",
       "      <td>400.0</td>\n",
       "      <td>4.0</td>\n",
       "      <td>0.2286</td>\n",
       "      <td>55.5</td>\n",
       "      <td>0.004286</td>\n",
       "      <td>123.274</td>\n",
       "    </tr>\n",
       "    <tr>\n",
       "      <th>3</th>\n",
       "      <td>1250.0</td>\n",
       "      <td>15.4</td>\n",
       "      <td>0.0508</td>\n",
       "      <td>39.6</td>\n",
       "      <td>0.028259</td>\n",
       "      <td>126.743</td>\n",
       "    </tr>\n",
       "    <tr>\n",
       "      <th>4</th>\n",
       "      <td>800.0</td>\n",
       "      <td>7.3</td>\n",
       "      <td>0.2286</td>\n",
       "      <td>39.6</td>\n",
       "      <td>0.012348</td>\n",
       "      <td>126.299</td>\n",
       "    </tr>\n",
       "    <tr>\n",
       "      <th>...</th>\n",
       "      <td>...</td>\n",
       "      <td>...</td>\n",
       "      <td>...</td>\n",
       "      <td>...</td>\n",
       "      <td>...</td>\n",
       "      <td>...</td>\n",
       "    </tr>\n",
       "    <tr>\n",
       "      <th>1197</th>\n",
       "      <td>3150.0</td>\n",
       "      <td>5.4</td>\n",
       "      <td>0.1524</td>\n",
       "      <td>31.7</td>\n",
       "      <td>0.005255</td>\n",
       "      <td>118.291</td>\n",
       "    </tr>\n",
       "    <tr>\n",
       "      <th>1198</th>\n",
       "      <td>2500.0</td>\n",
       "      <td>19.7</td>\n",
       "      <td>0.0508</td>\n",
       "      <td>39.6</td>\n",
       "      <td>0.036484</td>\n",
       "      <td>116.184</td>\n",
       "    </tr>\n",
       "    <tr>\n",
       "      <th>1199</th>\n",
       "      <td>800.0</td>\n",
       "      <td>2.0</td>\n",
       "      <td>0.2286</td>\n",
       "      <td>55.5</td>\n",
       "      <td>0.003135</td>\n",
       "      <td>128.492</td>\n",
       "    </tr>\n",
       "    <tr>\n",
       "      <th>1200</th>\n",
       "      <td>3150.0</td>\n",
       "      <td>3.3</td>\n",
       "      <td>0.1016</td>\n",
       "      <td>71.3</td>\n",
       "      <td>0.002028</td>\n",
       "      <td>132.114</td>\n",
       "    </tr>\n",
       "    <tr>\n",
       "      <th>1201</th>\n",
       "      <td>630.0</td>\n",
       "      <td>4.0</td>\n",
       "      <td>0.3048</td>\n",
       "      <td>39.6</td>\n",
       "      <td>0.005796</td>\n",
       "      <td>131.073</td>\n",
       "    </tr>\n",
       "  </tbody>\n",
       "</table>\n",
       "<p>1202 rows × 6 columns</p>\n",
       "</div>"
      ],
      "text/plain": [
       "           0     1       2     3         4        5\n",
       "0     8000.0   4.0  0.2286  39.6  0.004738  113.129\n",
       "1     6300.0   0.0  0.0508  55.5  0.000762  132.796\n",
       "2      400.0   4.0  0.2286  55.5  0.004286  123.274\n",
       "3     1250.0  15.4  0.0508  39.6  0.028259  126.743\n",
       "4      800.0   7.3  0.2286  39.6  0.012348  126.299\n",
       "...      ...   ...     ...   ...       ...      ...\n",
       "1197  3150.0   5.4  0.1524  31.7  0.005255  118.291\n",
       "1198  2500.0  19.7  0.0508  39.6  0.036484  116.184\n",
       "1199   800.0   2.0  0.2286  55.5  0.003135  128.492\n",
       "1200  3150.0   3.3  0.1016  71.3  0.002028  132.114\n",
       "1201   630.0   4.0  0.3048  39.6  0.005796  131.073\n",
       "\n",
       "[1202 rows x 6 columns]"
      ]
     },
     "execution_count": 45,
     "metadata": {},
     "output_type": "execute_result"
    }
   ],
   "source": [
    "dataset=pd.read_csv(r'C:\\Users\\Rishab\\Assignment-2_Dataset\\Datasets\\Question-3\\airfoil.csv',header=None)\n",
    "dataset"
   ]
  },
  {
   "cell_type": "markdown",
   "metadata": {},
   "source": [
    "This function normailizes test data using the calculated train mean and train std.This is essential to ensure that we are transforming our test data according to the data we have built our model on."
   ]
  },
  {
   "cell_type": "code",
   "execution_count": 46,
   "metadata": {},
   "outputs": [],
   "source": [
    "def normalize_test(test_values,train_mean,train_std):\n",
    "    for i in range(test_values.shape[1]):\n",
    "        test_values[:,i]=test_values[:,i]-train_mean[i]\n",
    "        test_values[:,i]=test_values[:,i]/train_std[i]\n",
    "    return test_values"
   ]
  },
  {
   "cell_type": "markdown",
   "metadata": {},
   "source": [
    "The follwing function is my own implementation of train test split provided by sklearn."
   ]
  },
  {
   "cell_type": "code",
   "execution_count": 47,
   "metadata": {},
   "outputs": [],
   "source": [
    "#train test split\n",
    "def train_test_split(df,test_size):\n",
    "    df_size=len(df)\n",
    "    if isinstance(test_size,float):#if test size is passed as a proportion\n",
    "        test_size=round(test_size*df_size)\n",
    "    #pick random samples from the data for train test split\n",
    "    indexes=df.index.tolist()\n",
    "    test_indices=random.sample(population=indexes,k=test_size)\n",
    "    #now putting the values of train and test data into the respective df's\n",
    "    test_df=df.loc[test_indices]\n",
    "    cropped_df=df.drop(test_indices)\n",
    "    train_df=cropped_df\n",
    "    return train_df,test_df"
   ]
  },
  {
   "cell_type": "markdown",
   "metadata": {},
   "source": [
    "The following is a helper function which is used to normalize the training data.It basically takes the columns which we want to normalize and it calculates means and standard deviations of each of them and applies the same to each column.It is equivalent to standardscaler of sklearn."
   ]
  },
  {
   "cell_type": "code",
   "execution_count": 48,
   "metadata": {},
   "outputs": [],
   "source": [
    "def normalize(dataset):\n",
    "    train_mean=[]\n",
    "    train_std=[]\n",
    "    for i in range(dataset.shape[1]):\n",
    "        mean=np.mean(dataset[:,i])\n",
    "        train_mean.append(mean)\n",
    "        std=np.std(dataset[:,i])\n",
    "        train_std.append(std)\n",
    "        dataset[:,i]=(dataset[:,i]-mean)/std\n",
    "    return dataset,train_mean,train_std"
   ]
  },
  {
   "cell_type": "code",
   "execution_count": 49,
   "metadata": {},
   "outputs": [],
   "source": [
    "train_data,test_data=train_test_split(dataset,0.25)\n",
    "train_data=np.array(train_data)\n",
    "test_data=np.array(test_data)"
   ]
  },
  {
   "cell_type": "code",
   "execution_count": 50,
   "metadata": {},
   "outputs": [],
   "source": [
    "train_values=train_data[:,:-1]\n",
    "train_labels=train_data[:,-1]\n",
    "test_values=test_data[:,:-1]\n",
    "test_labels=test_data[:,-1]\n",
    "test_labels2=test_labels\n",
    "train_labels2=train_labels\n",
    "train_values2=train_values\n",
    "test_values2=test_values"
   ]
  },
  {
   "cell_type": "code",
   "execution_count": 51,
   "metadata": {},
   "outputs": [],
   "source": [
    "train_values,train_mean,train_std=normalize(train_values)"
   ]
  },
  {
   "cell_type": "code",
   "execution_count": 52,
   "metadata": {},
   "outputs": [],
   "source": [
    "test_values=normalize_test(test_values,train_mean,train_std)"
   ]
  },
  {
   "cell_type": "code",
   "execution_count": 53,
   "metadata": {},
   "outputs": [
    {
     "name": "stdout",
     "output_type": "stream",
     "text": [
      "(902, 5) (300, 5)\n"
     ]
    }
   ],
   "source": [
    "print(train_values.shape,test_values.shape)"
   ]
  },
  {
   "cell_type": "code",
   "execution_count": 54,
   "metadata": {},
   "outputs": [],
   "source": [
    "def predict(values,weights,bias):\n",
    "    return np.dot(values,weights)+bias"
   ]
  },
  {
   "cell_type": "code",
   "execution_count": 112,
   "metadata": {},
   "outputs": [],
   "source": [
    "def multi_var_linear_regression_random(train_values,train_labels,alpha,num_iter,i):\n",
    "    train_dimension=train_values.shape[1]\n",
    "    num_samples=train_values.shape[0]\n",
    "    ones=np.ones((train_values.shape[0],1))\n",
    "    bias=0\n",
    "    if(i==0):\n",
    "        weights=np.array([100.23,95.12,55.6,109.11,110.54])\n",
    "    elif(i==1):\n",
    "        weights=np.array([210.5,220.6,230.7,195.5,200.122])\n",
    "    elif(i==3):\n",
    "        weights=np.random.rand(train_dimension)\n",
    "    elif(i==2):\n",
    "        weights=np.array([43.1,23.2,41.2,50.43,64])\n",
    "    elif(i==4):\n",
    "        weights=np.array([-2.3,-1.5,-0.9,-3.7,-4.1])\n",
    "    print('random_weights : ')\n",
    "    print(weights)\n",
    "    weights,bias,cost=gradient_descent(weights,train_values,train_labels,alpha,bias,num_iter)\n",
    "    return weights,bias,cost"
   ]
  },
  {
   "cell_type": "code",
   "execution_count": 55,
   "metadata": {},
   "outputs": [],
   "source": [
    "def gradient_descent(weights,train_values,train_labels,alpha,bias,num_iter):\n",
    "    num_samples=train_values.shape[0]\n",
    "    dim=train_values.shape[1]\n",
    "    cost=np.ones(num_iter)\n",
    "    i=0\n",
    "    #print(weights,bias)\n",
    "    for i in range(num_iter):\n",
    "            predict=np.dot(train_values,weights)+bias\n",
    "            cost[i]=(1/(2*num_samples)*sum(np.square(predict-train_labels)))\n",
    "            #print(cost[i])\n",
    "            #print(train_values.shape)\n",
    "            dw=1/(num_samples)*np.dot(train_values.T,(predict-train_labels))\n",
    "            db=1/(num_samples)*np.sum(predict-train_labels)\n",
    "            weights-=alpha*dw\n",
    "            bias-=alpha*db\n",
    "            i+=1\n",
    "    return weights,bias,cost"
   ]
  },
  {
   "cell_type": "code",
   "execution_count": 56,
   "metadata": {},
   "outputs": [],
   "source": [
    "def multi_var_linear_regression(train_values,train_labels,alpha,num_iter):\n",
    "    train_dimension=train_values.shape[1]\n",
    "    num_samples=train_values.shape[0]\n",
    "    ones=np.ones((train_values.shape[0],1))\n",
    "    bias=0\n",
    "    weights=np.zeros(train_dimension)\n",
    "    weights,bias,cost=gradient_descent(weights,train_values,train_labels,alpha,bias,num_iter)\n",
    "    return weights,bias,cost"
   ]
  },
  {
   "cell_type": "markdown",
   "metadata": {},
   "source": [
    "# change in cost(mean square error) with change in learning rate for fixed intial weights."
   ]
  },
  {
   "cell_type": "code",
   "execution_count": 70,
   "metadata": {},
   "outputs": [
    {
     "name": "stdout",
     "output_type": "stream",
     "text": [
      "alpha :  0.0001\n",
      "r2_score :  -5.599064836350409\n",
      "mean square error is :  322.77892594410775\n",
      "mean absolute error is :  17.264740625937957\n",
      "alpha :  0.0002\n",
      "r2_score :  0.39357261320336645\n",
      "mean square error is :  29.662078707740633\n",
      "mean absolute error is :  4.327571936238975\n",
      "alpha :  0.0005\n",
      "r2_score :  0.5449094540918655\n",
      "mean square error is :  22.25976577868939\n",
      "mean absolute error is :  3.7030500667123456\n",
      "alpha :  0.001\n",
      "r2_score :  0.5451288891115793\n",
      "mean square error is :  22.24903259122507\n",
      "mean absolute error is :  3.6979714304700853\n",
      "alpha :  0.002\n",
      "r2_score :  0.5450534584979931\n",
      "mean square error is :  22.25272211588355\n",
      "mean absolute error is :  3.6979185556270964\n",
      "alpha :  0.05\n",
      "r2_score :  0.5450505173324189\n",
      "mean square error is :  22.25286597661058\n",
      "mean absolute error is :  3.697917926092433\n",
      "alpha :  0.01\n",
      "r2_score :  0.5450505173324098\n",
      "mean square error is :  22.25286597661103\n",
      "mean absolute error is :  3.6979179260924577\n",
      "alpha :  0.02\n",
      "r2_score :  0.5450505173324156\n",
      "mean square error is :  22.252865976610742\n",
      "mean absolute error is :  3.6979179260924426\n",
      "alpha :  0.05\n",
      "r2_score :  0.5450505173324189\n",
      "mean square error is :  22.25286597661058\n",
      "mean absolute error is :  3.697917926092433\n",
      "alpha :  0.1\n",
      "r2_score :  0.54505051733242\n",
      "mean square error is :  22.25286597661053\n",
      "mean absolute error is :  3.6979179260924306\n",
      "alpha :  0.2\n",
      "r2_score :  0.5450505173324207\n",
      "mean square error is :  22.252865976610494\n",
      "mean absolute error is :  3.697917926092429\n",
      "alpha :  0.5\n",
      "r2_score :  0.5450505173324209\n",
      "mean square error is :  22.252865976610487\n",
      "mean absolute error is :  3.6979179260924284\n",
      "alpha :  0.6\n",
      "r2_score :  0.5450505173324209\n",
      "mean square error is :  22.252865976610487\n",
      "mean absolute error is :  3.6979179260924284\n",
      "alpha :  0.7\n",
      "r2_score :  0.5450505173324209\n",
      "mean square error is :  22.252865976610483\n",
      "mean absolute error is :  3.6979179260924284\n",
      "alpha :  0.8\n",
      "r2_score :  0.5450505173324212\n",
      "mean square error is :  22.252865976610472\n",
      "mean absolute error is :  3.6979179260924284\n",
      "alpha :  0.9\n",
      "r2_score :  0.5450505173324213\n",
      "mean square error is :  22.25286597661047\n",
      "mean absolute error is :  3.6979179260924275\n"
     ]
    },
    {
     "data": {
      "image/png": "[encoded data removed]",
      "text/plain": [
       "<Figure size 432x288 with 1 Axes>"
      ]
     },
     "metadata": {
      "needs_background": "light"
     },
     "output_type": "display_data"
    }
   ],
   "source": [
    "alpha_lst=[0.0001,0.0002,0.0005,0.001,0.002,0.05,0.01,0.02,0.05,0.1,0.2,0.5,0.6,0.7,0.8,0.9]\n",
    "num_iter=20000\n",
    "for alpha in alpha_lst: \n",
    "    theta,bias,cost=multi_var_linear_regression(train_values,train_labels,alpha,num_iter)\n",
    "    n_iter=[x for x in range(num_iter)]\n",
    "    plt.plot(n_iter,cost)\n",
    "    plt.xlabel('number of iterations ---->')\n",
    "    plt.ylabel('cost')\n",
    "    prediction=[]\n",
    "    for i in range(len(test_values)):\n",
    "        prediction.append(predict(test_values[i],theta,bias))\n",
    "    print(\"alpha : \",alpha)\n",
    "    print('r2_score : ',r2_score(np.array(test_labels),np.array(prediction)))\n",
    "    print(\"mean square error is : \",mean_squared_error(np.array(test_labels),np.array(prediction)))\n",
    "    print(\"mean absolute error is : \",mean_absolute_error(np.array(test_labels),np.array(prediction)))"
   ]
  },
  {
   "cell_type": "code",
   "execution_count": 130,
   "metadata": {},
   "outputs": [
    {
     "data": {
      "image/png": "[encoded data removed]",
      "text/plain": [
       "<Figure size 1152x360 with 1 Axes>"
      ]
     },
     "metadata": {
      "needs_background": "light"
     },
     "output_type": "display_data"
    }
   ],
   "source": [
    "prediction2=np.array(prediction)\n",
    "fig,ax=plt.subplots()\n",
    "ax.scatter(test_labels,prediction)\n",
    "ax.plot([prediction2.min(),prediction2.max()],[test_labels.min(),test_labels.max()],'k--',lw=4)\n",
    "ax.set_xlabel('actual')\n",
    "ax.set_ylabel('predicted')\n",
    "plt.show()"
   ]
  },
  {
   "cell_type": "markdown",
   "metadata": {},
   "source": [
    "# change in cost(mean square error) for different weights but fixed value of learning rate"
   ]
  },
  {
   "cell_type": "code",
   "execution_count": 113,
   "metadata": {},
   "outputs": [
    {
     "name": "stdout",
     "output_type": "stream",
     "text": [
      "random_weights : \n",
      "[100.23  95.12  55.6  109.11 110.54]\n",
      "random_weights : \n",
      "[210.5   220.6   230.7   195.5   200.122]\n",
      "random_weights : \n",
      "[43.1  23.2  41.2  50.43 64.  ]\n",
      "random_weights : \n",
      "[0.3368997  0.7360843  0.52422172 0.76100324 0.0796534 ]\n",
      "random_weights : \n",
      "[-2.3 -1.5 -0.9 -3.7 -4.1]\n"
     ]
    },
    {
     "data": {
      "image/png": "[encoded data removed]",
      "text/plain": [
       "<Figure size 1152x360 with 1 Axes>"
      ]
     },
     "metadata": {
      "needs_background": "light"
     },
     "output_type": "display_data"
    }
   ],
   "source": [
    "alpha_lst2=[0.005]\n",
    "num_iter=5000\n",
    "mse_lst2=[]\n",
    "mae_lst2=[]\n",
    "r2_lst2=[]\n",
    "for i in range(5):\n",
    "        theta,bias,cost=multi_var_linear_regression_random(train_values,train_labels,0.005,num_iter,i)\n",
    "        n_iter=[x for x in range(num_iter)]\n",
    "        plt.rcParams[\"figure.figsize\"] = (16,5)\n",
    "        plt.plot(n_iter,cost)\n",
    "        plt.xlabel('number of iterations ---->')\n",
    "        plt.ylabel('cost')\n",
    "        prediction=[]\n",
    "        for i in range(len(test_values)):\n",
    "            prediction.append(predict(test_values[i],theta,bias))\n",
    "        mse_lst2.append(mean_squared_error(np.array(test_labels),np.array(prediction)))\n",
    "        mae_lst2.append(mean_absolute_error(np.array(test_labels),np.array(prediction)))\n",
    "        r2_lst2.append(r2_score(np.array(test_labels),np.array(prediction)))"
   ]
  },
  {
   "cell_type": "markdown",
   "metadata": {},
   "source": [
    "3. If you want to apply regression on some dataset but one of it’s features has missing\n",
    "values under below given conditions, how will you approach the problem. (No need\n",
    "of Code Experimentation)\n",
    "(a) When 0-0.5% of values are missing of that feature\n",
    "(b) When 8-10% of values are missing of that feature\n",
    "(c) When 60-70% of values are missing of that feature\n"
   ]
  },
  {
   "cell_type": "markdown",
   "metadata": {},
   "source": [
    "A)when 0-0.5% values are missing then i would fill the missing values with some statistical approach like mean,median,mode depending on the feature."
   ]
  },
  {
   "cell_type": "markdown",
   "metadata": {},
   "source": [
    "B) When 8-10% values are missing then i would replace it with mean of the data if continuous and mode if categorical"
   ]
  },
  {
   "cell_type": "markdown",
   "metadata": {},
   "source": [
    "C) When greater than 50% values are missing,then we cant generalize the missing values and hence the better way will be to either get more data or drop that feature."
   ]
  }
 ],
 "metadata": {
  "kernelspec": {
   "display_name": "Python 3",
   "language": "python",
   "name": "python3"
  },
  "language_info": {
   "codemirror_mode": {
    "name": "ipython",
    "version": 3
   },
   "file_extension": ".py",
   "mimetype": "text/x-python",
   "name": "python",
   "nbconvert_exporter": "python",
   "pygments_lexer": "ipython3",
   "version": "3.7.4"
  }
 },
 "nbformat": 4,
 "nbformat_minor": 2
}
