{
 "cells": [
  {
   "cell_type": "code",
   "execution_count": 1,
   "metadata": {},
   "outputs": [],
   "source": [
    "import numpy as np\n",
    "import pandas as pd"
   ]
  },
  {
   "cell_type": "code",
   "execution_count": 63,
   "metadata": {},
   "outputs": [],
   "source": [
    "class LogisticRegression:\n",
    "    def __init__(self,learning_rate=0.001,num_iterations=1500):\n",
    "        self.learning_rate=learning_rate\n",
    "        self.weights=None\n",
    "        self.bias=None\n",
    "        self.num_iterations=num_iterations\n",
    "    def fit(self,X,y):\n",
    "        num_samples,num_features=X.shape\n",
    "        self.weights=np.zeros(num_features)\n",
    "        self.bias=0\n",
    "        \n",
    "        #gradient descent\n",
    "        convergence=False\n",
    "        #while(convergence is not True):\n",
    "        for i in range(self.num_iterations):\n",
    "        #Wx+B\n",
    "            linear_model=np.dot(X,self.weights)+self.bias\n",
    "            y_pred=self.sigmoid(linear_model)\n",
    "            \n",
    "            dw=(1/num_samples)*np.dot(X.T,(y_pred-y))\n",
    "            db=(1/num_samples)*np.sum(y_pred-y)\n",
    "            old_wts=self.weights\n",
    "            old_bias=self.bias\n",
    "            self.weights=self.weights-self.learning_rate*dw\n",
    "            self.bias=self.bias-self.learning_rate*db            \n",
    "            diff_weights=np.sum(old_wts-self.weights)\n",
    "            #print(diff_weights)\n",
    "            #if(diff_weights<abs(0.000001)):\n",
    "            #    convergence=True\n",
    "            \n",
    "    def predict(self,X):\n",
    "        linear_model=np.dot(X,self.weights)+self.bias\n",
    "        y_pred=self.sigmoid(linear_model)\n",
    "        predictions=[]\n",
    "        for i in y_pred:\n",
    "            if(i>0.5):\n",
    "                predictions.append(1)\n",
    "            else:\n",
    "                predictions.append(0)\n",
    "        return predictions\n",
    "\n",
    "    def sigmoid(self,x):\n",
    "        return(1/(1+np.exp(-x)))"
   ]
  },
  {
   "cell_type": "code",
   "execution_count": 80,
   "metadata": {},
   "outputs": [],
   "source": [
    "from sklearn import datasets\n",
    "from sklearn.model_selection import train_test_split\n",
    "x_train,x_test,y_train,y_test=train_test_split(X,y,test_size=0.2,random_state=1000)\n",
    "regressor=LogisticRegression(learning_rate=0.00001,num_iterations=2000)\n",
    "regressor.fit(x_train,y_train)\n",
    "preds=regressor.predict(x_test)"
   ]
  },
  {
   "cell_type": "code",
   "execution_count": 81,
   "metadata": {},
   "outputs": [
    {
     "data": {
      "text/plain": [
       "0.9298245614035088"
      ]
     },
     "execution_count": 81,
     "metadata": {},
     "output_type": "execute_result"
    }
   ],
   "source": [
    "acc=np.sum(preds==y_test)\n",
    "acc/len(y_test)"
   ]
  },
  {
   "cell_type": "code",
   "execution_count": null,
   "metadata": {},
   "outputs": [],
   "source": []
  }
 ],
 "metadata": {
  "kernelspec": {
   "display_name": "Python 3",
   "language": "python",
   "name": "python3"
  },
  "language_info": {
   "codemirror_mode": {
    "name": "ipython",
    "version": 3
   },
   "file_extension": ".py",
   "mimetype": "text/x-python",
   "name": "python",
   "nbconvert_exporter": "python",
   "pygments_lexer": "ipython3",
   "version": "3.7.4"
  }
 },
 "nbformat": 4,
 "nbformat_minor": 2
}
