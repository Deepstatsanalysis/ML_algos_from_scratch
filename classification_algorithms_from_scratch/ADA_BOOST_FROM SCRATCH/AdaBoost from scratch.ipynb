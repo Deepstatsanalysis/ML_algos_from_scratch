{
 "cells": [
  {
   "cell_type": "code",
   "execution_count": 3,
   "metadata": {},
   "outputs": [],
   "source": [
    "import numpy as np \n",
    "import matplotlib.pyplot as plt"
   ]
  },
  {
   "cell_type": "markdown",
   "metadata": {},
   "source": [
    "# Behaviour of alpha vs error"
   ]
  },
  {
   "cell_type": "code",
   "execution_count": 5,
   "metadata": {
    "scrolled": false
   },
   "outputs": [
    {
     "data": {
      "image/png": "[encoded data removed]",
      "text/plain": [
       "<Figure size 720x576 with 1 Axes>"
      ]
     },
     "metadata": {
      "needs_background": "light"
     },
     "output_type": "display_data"
    }
   ],
   "source": [
    "def alpha(x):\n",
    "    return 0.5*np.log((1.0-x)/x)\n",
    "alpha_vals=[]\n",
    "errors=np.arange(0.01,1.00,0.01)\n",
    "for error in errors:\n",
    "    alpha_vals.append(alpha(error))\n",
    "plt.figure(figsize=(10,8))\n",
    "plt.ylabel('alpha')\n",
    "plt.xlabel('errors')\n",
    "plt.plot(errors,alpha_vals)\n",
    "plt.show()"
   ]
  },
  {
   "cell_type": "code",
   "execution_count": 28,
   "metadata": {},
   "outputs": [],
   "source": [
    "class decision_stump:\n",
    "    def __init__(self):\n",
    "        self.polarity=1 #tells if the sample should be classified as -1 or +1 for the given threshold\n",
    "        self.feature_index=None\n",
    "        self.threshold=None\n",
    "        self.alpha=None\n",
    "        \n",
    "        \n",
    "    def predict(self,x):\n",
    "        num_samples,num_featurers=x.shape\n",
    "        x_column=x[:,self.feature_index]\n",
    "        \n",
    "        predictions=np.ones(num_samples)\n",
    "        if self.polarity==1:\n",
    "            predictions[x_column<self.threshold]=-1\n",
    "        else:\n",
    "             predictions[x_column>self.threshold]=-1\n",
    "        return predictions"
   ]
  },
  {
   "cell_type": "code",
   "execution_count": 29,
   "metadata": {},
   "outputs": [],
   "source": [
    "class AdaBoost:\n",
    "    def __init__(self,num_classifiers=5):\n",
    "        self.num_classifiers=num_classifiers\n",
    "    \n",
    "    def alpha(self,x):\n",
    "        epsilon=1e-10\n",
    "        return 0.5*np.log((1.0-x)/x+epsilon)\n",
    "    \n",
    "    def update_weights(self,weights,y,predictions,clf):\n",
    "        weights=weights*np.exp(-clf.alpha*y*predictions)\n",
    "        weights=weights/np.sum(weights)\n",
    "        return weights\n",
    "    \n",
    "    def fit(self,x,y):\n",
    "        num_samples,num_features=x.shape\n",
    "        \n",
    "        #init weights\n",
    "        w=np.full(num_samples,(1/num_samples))\n",
    "        \n",
    "        self.classifiers=[]\n",
    "        for _ in range(self.num_classifiers):\n",
    "            clf=decision_stump()\n",
    "            min_error=float('inf')\n",
    "            for feature_i in range(num_features):\n",
    "                x_column=x[:,feature_i]\n",
    "                thresholds=np.unique(x_column)\n",
    "                for threshold in thresholds:\n",
    "                    polarity=1\n",
    "                    \n",
    "                    predictions=np.ones(num_samples)\n",
    "                    \n",
    "                    predictions[x_column<threshold]=-1\n",
    "                    \n",
    "                    missclassifications=w[y!=predictions]\n",
    "                    \n",
    "                    error=sum(missclassifications)\n",
    "                    \n",
    "                    if(error>0.5):\n",
    "                        error=1-error\n",
    "                        polarity=-1\n",
    "                    if(error<min_error):\n",
    "                        min_error=error\n",
    "                        clf.polarity=polarity\n",
    "                        clf.threshold=threshold\n",
    "                        clf.feature_index=feature_i\n",
    "\n",
    "            clf.alpha=self.alpha(error)\n",
    "            \n",
    "            predictions=clf.predict(x)\n",
    "            w=self.update_weights(w,y,predictions,clf)\n",
    "            \n",
    "            self.classifiers.append(clf)\n",
    "            \n",
    "    def predict(self,x):\n",
    "        clf_predictions=[]\n",
    "        for clf in self.classifiers:\n",
    "            pred=clf.alpha*clf.predict(x)\n",
    "            clf_predictions.append(pred)\n",
    "        y_predictions=np.sum(clf_predictions,axis=0)\n",
    "        y_predictions=np.sign(y_predictions)\n",
    "        return y_predictions"
   ]
  },
  {
   "cell_type": "code",
   "execution_count": 32,
   "metadata": {},
   "outputs": [
    {
     "name": "stdout",
     "output_type": "stream",
     "text": [
      "0.9298245614035088\n"
     ]
    }
   ],
   "source": [
    "from sklearn import datasets\n",
    "from sklearn.model_selection import train_test_split\n",
    "from sklearn.metrics import accuracy_score\n",
    "\n",
    "data=datasets.load_breast_cancer()\n",
    "x=data.data\n",
    "y=data.target\n",
    "\n",
    "y[y==0]=-1\n",
    "x_train,x_test,y_train,y_test=train_test_split(x,y,test_size=0.2)\n",
    "clf=AdaBoost(num_classifiers=10)\n",
    "clf.fit(x_train,y_train)\n",
    "predictions=clf.predict(x_test)\n",
    "print(accuracy_score(y_test,predictions))"
   ]
  }
 ],
 "metadata": {
  "kernelspec": {
   "display_name": "Python 3",
   "language": "python",
   "name": "python3"
  },
  "language_info": {
   "codemirror_mode": {
    "name": "ipython",
    "version": 3
   },
   "file_extension": ".py",
   "mimetype": "text/x-python",
   "name": "python",
   "nbconvert_exporter": "python",
   "pygments_lexer": "ipython3",
   "version": "3.7.4"
  }
 },
 "nbformat": 4,
 "nbformat_minor": 2
}
